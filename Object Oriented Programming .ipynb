{
 "cells": [
  {
   "cell_type": "code",
   "execution_count": 1,
   "id": "8c83ed8c",
   "metadata": {},
   "outputs": [],
   "source": [
    "import pandas as pd\n",
    "import numpy as np "
   ]
  },
  {
   "cell_type": "code",
   "execution_count": 2,
   "id": "05a7288d",
   "metadata": {},
   "outputs": [],
   "source": [
    "class Atm:\n",
    "    #constructor\n",
    "    def __init__(self):\n",
    "        self.pin=''\n",
    "        self.balance=0\n",
    "    "
   ]
  },
  {
   "cell_type": "code",
   "execution_count": 3,
   "id": "e40fa19a",
   "metadata": {},
   "outputs": [],
   "source": [
    "atm=Atm()"
   ]
  },
  {
   "cell_type": "code",
   "execution_count": 4,
   "id": "9f1dda5a",
   "metadata": {},
   "outputs": [
    {
     "name": "stdout",
     "output_type": "stream",
     "text": [
      "<class '__main__.Atm'>\n"
     ]
    }
   ],
   "source": [
    "print(type(atm))"
   ]
  },
  {
   "cell_type": "code",
   "execution_count": 5,
   "id": "c2e16c57",
   "metadata": {},
   "outputs": [],
   "source": [
    "class Atm:\n",
    "    #constructor\n",
    "    def __init__(self):\n",
    "        self.pin=''\n",
    "        self.balance=0\n",
    "        self.menu()\n",
    "        print(\"executed\")\n",
    "    def menu(self):\n",
    "        user_input=input(\"\"\"hi how  can i  help\n",
    "        1. press 1 to create pin\n",
    "        2. press 2 to change pin\n",
    "        3. press 3 to see balance\"\"\")\n",
    "        \n",
    "        "
   ]
  },
  {
   "cell_type": "code",
   "execution_count": 6,
   "id": "36c2628a",
   "metadata": {},
   "outputs": [
    {
     "name": "stdout",
     "output_type": "stream",
     "text": [
      "hi how  can i  help\n",
      "        1. press 1 to create pin\n",
      "        2. press 2 to change pin\n",
      "        3. press 3 to see balance1\n",
      "executed\n"
     ]
    }
   ],
   "source": [
    "atm=Atm()"
   ]
  },
  {
   "cell_type": "code",
   "execution_count": 7,
   "id": "94aab0b7",
   "metadata": {},
   "outputs": [],
   "source": [
    "class Atm:\n",
    "    #constructor\n",
    "    def __init__(self):\n",
    "        self.pin=''\n",
    "        self.balance=0\n",
    "        self.menu()\n",
    "        print(\"executed\")\n",
    "    def menu(self):\n",
    "        user_input=input(\"\"\"hi how  can i  help\n",
    "        1. press 1 to create pin\n",
    "        2. press 2 to change pin\n",
    "        3. press 3 to see balance\"\"\")\n",
    "        if user_input ==\"1\":\n",
    "            self.create_pin()\n",
    "        elif user_input==\"2\":\n",
    "            self.change_pin()\n",
    "            # change pin\n",
    "        elif user_input==\"3\":\n",
    "            pass\n",
    "            # see balance\n",
    "        else:\n",
    "            exit()\n",
    "    def create_pin(self):\n",
    "        user_pin=input(\"enter pin\")\n",
    "        self.pin=user_pin\n",
    "        user_balance=int(input(\"give balance\"))\n",
    "        self.balance=user_balance\n",
    "        print(\"pin created\")\n",
    "        self.menu()\n",
    "    def change_pin(self):\n",
    "        old_pin=input(\"enter old pin\")\n",
    "        if old_pin==self.pin:\n",
    "            new_pin=input(\"enter_new_pin\")\n",
    "            self.pin=new_pin\n",
    "            print(\"pin changed\")\n",
    "            self.menu()\n",
    "        else:\n",
    "            print(\"wrong pin\")\n",
    "            self.menu()\n",
    "        "
   ]
  },
  {
   "cell_type": "code",
   "execution_count": 8,
   "id": "48e59306",
   "metadata": {},
   "outputs": [
    {
     "name": "stdout",
     "output_type": "stream",
     "text": [
      "hi how  can i  help\n",
      "        1. press 1 to create pin\n",
      "        2. press 2 to change pin\n",
      "        3. press 3 to see balance1\n",
      "enter pin232\n",
      "give balance32421\n",
      "pin created\n",
      "hi how  can i  help\n",
      "        1. press 1 to create pin\n",
      "        2. press 2 to change pin\n",
      "        3. press 3 to see balance2\n",
      "enter old pin\n",
      "wrong pin\n",
      "hi how  can i  help\n",
      "        1. press 1 to create pin\n",
      "        2. press 2 to change pin\n",
      "        3. press 3 to see balance3\n",
      "executed\n"
     ]
    }
   ],
   "source": [
    "atm=Atm()"
   ]
  },
  {
   "cell_type": "code",
   "execution_count": 1,
   "id": "e242f74f",
   "metadata": {},
   "outputs": [],
   "source": [
    "class Atm:\n",
    "    #constructor\n",
    "    def __init__(self):\n",
    "        self.pin=''\n",
    "        self.balance=0\n",
    "        self.menu()\n",
    "        print(\"executed\")\n",
    "    def menu(self):\n",
    "        user_input=input(\"\"\"hi how  can i  help\n",
    "        1. press 1 to create pin\n",
    "        2. press 2 to change pin\n",
    "        3. press 3 to see balance\n",
    "        4. press 4 to withdraw\"\"\")\n",
    "        if user_input ==\"1\":\n",
    "            self.create_pin()\n",
    "        elif user_input==\"2\":\n",
    "            self.change_pin()\n",
    "            # change pin\n",
    "        elif user_input==\"3\":\n",
    "            self.check_balance()\n",
    "            # see balance\n",
    "        elif user_input==\"4\":\n",
    "            self.with_draw()\n",
    "            # see balance\n",
    "        else:\n",
    "            exit()\n",
    "    def create_pin(self):\n",
    "        user_pin=input(\"enter pin\")\n",
    "        self.pin=user_pin\n",
    "        user_balance=int(input(\"give balance\"))\n",
    "        self.balance=user_balance\n",
    "        print(\"pin created\")\n",
    "        self.menu()\n",
    "    def change_pin(self):\n",
    "        old_pin=input(\"enter old pin\")\n",
    "        if old_pin==self.pin:\n",
    "            new_pin=input(\"enter_new_pin\")\n",
    "            self.pin=new_pin\n",
    "            print(\"pin changed\")\n",
    "            self.menu()\n",
    "        else:\n",
    "            print(\"wrong pin\")\n",
    "            self.menu()\n",
    "    def check_balance(self):\n",
    "        user_pin=input(\"enter you pin\")\n",
    "        if user_pin==self.pin:\n",
    "            print(\"your balance is ->\",self.balance)\n",
    "        else:\n",
    "            print(\"get out\")\n",
    "    def with_draw(self):\n",
    "        user_pin=input(\"give your pin\")\n",
    "        if user_pin==self.pin:\n",
    "            amount = int(input(\"enter input\"))\n",
    "            if amount<=self.balance:\n",
    "                self.balance=self.balance-amount\n",
    "                print(\"withdrawl succesfull, remaining balance is\",self.balance)\n",
    "                self.menu()\n",
    "            else:\n",
    "                print(\"enter correct amout\")\n",
    "        else:\n",
    "            print(\"get out\")\n",
    "        self.menu()"
   ]
  },
  {
   "cell_type": "code",
   "execution_count": 2,
   "id": "76a051b6",
   "metadata": {},
   "outputs": [
    {
     "name": "stdout",
     "output_type": "stream",
     "text": [
      "hi how  can i  help\n",
      "        1. press 1 to create pin\n",
      "        2. press 2 to change pin\n",
      "        3. press 3 to see balance\n",
      "        4. press 4 to withdraw1\n",
      "enter pin1234\n",
      "give balance7000\n",
      "pin created\n",
      "hi how  can i  help\n",
      "        1. press 1 to create pin\n",
      "        2. press 2 to change pin\n",
      "        3. press 3 to see balance\n",
      "        4. press 4 to withdraw1\n",
      "enter pin1234\n",
      "give balance7000\n",
      "pin created\n",
      "hi how  can i  help\n",
      "        1. press 1 to create pin\n",
      "        2. press 2 to change pin\n",
      "        3. press 3 to see balance\n",
      "        4. press 4 to withdraw4\n",
      "give your pin1234\n",
      "enter input1000\n",
      "withdrawl succesfull, remaining balance is 6000\n",
      "hi how  can i  help\n",
      "        1. press 1 to create pin\n",
      "        2. press 2 to change pin\n",
      "        3. press 3 to see balance\n",
      "        4. press 4 to withdraw4\n",
      "give your pin10000\n",
      "get out\n",
      "hi how  can i  help\n",
      "        1. press 1 to create pin\n",
      "        2. press 2 to change pin\n",
      "        3. press 3 to see balance\n",
      "        4. press 4 to withdraw5\n",
      "hi how  can i  help\n",
      "        1. press 1 to create pin\n",
      "        2. press 2 to change pin\n",
      "        3. press 3 to see balance\n",
      "        4. press 4 to withdraw6\n",
      "executed\n"
     ]
    }
   ],
   "source": [
    "atm=Atm()"
   ]
  },
  {
   "cell_type": "code",
   "execution_count": 15,
   "id": "d986fd67",
   "metadata": {},
   "outputs": [],
   "source": [
    "class Atm:\n",
    "    #constructor\n",
    "    def __init__(self):\n",
    "        self.pin=''\n",
    "        self.balance=0\n",
    "        print(id(self))\n",
    "        \n",
    "        print(\"executed\")\n",
    "    def menu(self):\n",
    "        user_input=input(\"\"\"hi how  can i  help\n",
    "        1. press 1 to create pin\n",
    "        2. press 2 to change pin\n",
    "        3. press 3 to see balance\n",
    "        4. press 4 to withdraw\"\"\")\n",
    "        if user_input ==\"1\":\n",
    "            self.create_pin()\n",
    "        elif user_input==\"2\":\n",
    "            self.change_pin()\n",
    "            # change pin\n",
    "        elif user_input==\"3\":\n",
    "            self.check_balance()\n",
    "            # see balance\n",
    "        elif user_input==\"4\":\n",
    "            self.with_draw()\n",
    "            # see balance\n",
    "        else:\n",
    "            exit()\n",
    "    def create_pin(self):\n",
    "        user_pin=input(\"enter pin\")\n",
    "        self.pin=user_pin\n",
    "        user_balance=int(input(\"give balance\"))\n",
    "        self.balance=user_balance\n",
    "        print(\"pin created\")\n",
    "        self.menu()\n",
    "    def change_pin(self):\n",
    "        old_pin=input(\"enter old pin\")\n",
    "        if old_pin==self.pin:\n",
    "            new_pin=input(\"enter_new_pin\")\n",
    "            self.pin=new_pin\n",
    "            print(\"pin changed\")\n",
    "            self.menu()\n",
    "        else:\n",
    "            print(\"wrong pin\")\n",
    "            self.menu()\n",
    "    def check_balance(self):\n",
    "        user_pin=input(\"enter you pin\")\n",
    "        if user_pin==self.pin:\n",
    "            print(\"your balance is ->\",self.balance)\n",
    "        else:\n",
    "            print(\"get out\")\n",
    "    def with_draw(self):\n",
    "        user_pin=input(\"give your pin\")\n",
    "        if user_pin==self.pin:\n",
    "            amount = int(input(\"enter input\"))\n",
    "            if amount<=self.balance:\n",
    "                self.balance=self.balance-amount\n",
    "                print(\"withdrawl succesfull, remaining balance is\",self.balance)\n",
    "                self.menu()\n",
    "            else:\n",
    "                print(\"enter correct amout\")\n",
    "        else:\n",
    "            print(\"get out\")\n",
    "        self.menu()"
   ]
  },
  {
   "cell_type": "code",
   "execution_count": 16,
   "id": "81cb76cf",
   "metadata": {},
   "outputs": [
    {
     "name": "stdout",
     "output_type": "stream",
     "text": [
      "2122600214032\n",
      "executed\n"
     ]
    }
   ],
   "source": [
    "atm=Atm()"
   ]
  },
  {
   "cell_type": "code",
   "execution_count": 17,
   "id": "7a5fd000",
   "metadata": {},
   "outputs": [
    {
     "name": "stdout",
     "output_type": "stream",
     "text": [
      "2122600214032\n"
     ]
    }
   ],
   "source": [
    "print(id(atm))"
   ]
  },
  {
   "cell_type": "code",
   "execution_count": 8,
   "id": "1e58ffe3",
   "metadata": {},
   "outputs": [],
   "source": [
    "a=[1243]"
   ]
  },
  {
   "cell_type": "code",
   "execution_count": 9,
   "id": "0edb8a59",
   "metadata": {},
   "outputs": [
    {
     "name": "stdout",
     "output_type": "stream",
     "text": [
      "2122578990976\n"
     ]
    }
   ],
   "source": [
    "print(id(a))"
   ]
  },
  {
   "cell_type": "code",
   "execution_count": 12,
   "id": "b00c002f",
   "metadata": {},
   "outputs": [
    {
     "name": "stdout",
     "output_type": "stream",
     "text": [
      "2122578722192\n"
     ]
    }
   ],
   "source": [
    "print(id(atm))"
   ]
  },
  {
   "cell_type": "code",
   "execution_count": null,
   "id": "09d7829a",
   "metadata": {},
   "outputs": [],
   "source": []
  },
  {
   "cell_type": "code",
   "execution_count": null,
   "id": "588758c1",
   "metadata": {},
   "outputs": [],
   "source": []
  },
  {
   "cell_type": "code",
   "execution_count": null,
   "id": "4dd3a0e2",
   "metadata": {},
   "outputs": [],
   "source": []
  },
  {
   "cell_type": "code",
   "execution_count": null,
   "id": "7a087202",
   "metadata": {},
   "outputs": [],
   "source": []
  },
  {
   "cell_type": "code",
   "execution_count": null,
   "id": "29aebdb3",
   "metadata": {},
   "outputs": [],
   "source": []
  },
  {
   "cell_type": "code",
   "execution_count": null,
   "id": "531998d7",
   "metadata": {},
   "outputs": [],
   "source": []
  }
 ],
 "metadata": {
  "kernelspec": {
   "display_name": "Python 3 (ipykernel)",
   "language": "python",
   "name": "python3"
  },
  "language_info": {
   "codemirror_mode": {
    "name": "ipython",
    "version": 3
   },
   "file_extension": ".py",
   "mimetype": "text/x-python",
   "name": "python",
   "nbconvert_exporter": "python",
   "pygments_lexer": "ipython3",
   "version": "3.11.5"
  }
 },
 "nbformat": 4,
 "nbformat_minor": 5
}
