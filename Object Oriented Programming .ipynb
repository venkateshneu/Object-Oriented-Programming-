{
 "cells": [
  {
   "cell_type": "code",
   "execution_count": 1,
   "id": "8c83ed8c",
   "metadata": {},
   "outputs": [],
   "source": [
    "import pandas as pd\n",
    "import numpy as np "
   ]
  },
  {
   "cell_type": "code",
   "execution_count": 2,
   "id": "05a7288d",
   "metadata": {},
   "outputs": [],
   "source": [
    "class Atm:\n",
    "    #constructor\n",
    "    def __init__(self):\n",
    "        self.pin=''\n",
    "        self.balance=0\n",
    "    "
   ]
  },
  {
   "cell_type": "code",
   "execution_count": 3,
   "id": "e40fa19a",
   "metadata": {},
   "outputs": [],
   "source": [
    "atm=Atm()"
   ]
  },
  {
   "cell_type": "code",
   "execution_count": 4,
   "id": "9f1dda5a",
   "metadata": {},
   "outputs": [
    {
     "name": "stdout",
     "output_type": "stream",
     "text": [
      "<class '__main__.Atm'>\n"
     ]
    }
   ],
   "source": [
    "print(type(atm))"
   ]
  },
  {
   "cell_type": "code",
   "execution_count": 5,
   "id": "c2e16c57",
   "metadata": {},
   "outputs": [],
   "source": [
    "class Atm:\n",
    "    #constructor\n",
    "    def __init__(self):\n",
    "        self.pin=''\n",
    "        self.balance=0\n",
    "        self.menu()\n",
    "        print(\"executed\")\n",
    "    def menu(self):\n",
    "        user_input=input(\"\"\"hi how  can i  help\n",
    "        1. press 1 to create pin\n",
    "        2. press 2 to change pin\n",
    "        3. press 3 to see balance\"\"\")\n",
    "        \n",
    "        "
   ]
  },
  {
   "cell_type": "code",
   "execution_count": 6,
   "id": "36c2628a",
   "metadata": {},
   "outputs": [
    {
     "name": "stdout",
     "output_type": "stream",
     "text": [
      "hi how  can i  help\n",
      "        1. press 1 to create pin\n",
      "        2. press 2 to change pin\n",
      "        3. press 3 to see balance1213\n",
      "executed\n"
     ]
    }
   ],
   "source": [
    "atm=Atm()"
   ]
  },
  {
   "cell_type": "code",
   "execution_count": 7,
   "id": "94aab0b7",
   "metadata": {},
   "outputs": [],
   "source": [
    "class Atm:\n",
    "    #constructor\n",
    "    def __init__(self):\n",
    "        self.pin=''\n",
    "        self.balance=0\n",
    "        self.menu()\n",
    "        print(\"executed\")\n",
    "    def menu(self):\n",
    "        user_input=input(\"\"\"hi how  can i  help\n",
    "        1. press 1 to create pin\n",
    "        2. press 2 to change pin\n",
    "        3. press 3 to see balance\"\"\")\n",
    "        if user_input ==\"1\":\n",
    "            self.create_pin()\n",
    "        elif user_input==\"2\":\n",
    "            self.change_pin()\n",
    "            # change pin\n",
    "        elif user_input==\"3\":\n",
    "            pass\n",
    "            # see balance\n",
    "        else:\n",
    "            exit()\n",
    "    def create_pin(self):\n",
    "        user_pin=input(\"enter pin\")\n",
    "        self.pin=user_pin\n",
    "        user_balance=int(input(\"give balance\"))\n",
    "        self.balance=user_balance\n",
    "        print(\"pin created\")\n",
    "        self.menu()\n",
    "    def change_pin(self):\n",
    "        old_pin=input(\"enter old pin\")\n",
    "        if old_pin==self.pin:\n",
    "            new_pin=input(\"enter_new_pin\")\n",
    "            self.pin=new_pin\n",
    "            print(\"pin changed\")\n",
    "            self.menu()\n",
    "        else:\n",
    "            print(\"wrong pin\")\n",
    "            self.menu()\n",
    "        "
   ]
  },
  {
   "cell_type": "code",
   "execution_count": 8,
   "id": "48e59306",
   "metadata": {},
   "outputs": [
    {
     "name": "stdout",
     "output_type": "stream",
     "text": [
      "hi how  can i  help\n",
      "        1. press 1 to create pin\n",
      "        2. press 2 to change pin\n",
      "        3. press 3 to see balance1\n",
      "enter pin232\n",
      "give balance32421\n",
      "pin created\n",
      "hi how  can i  help\n",
      "        1. press 1 to create pin\n",
      "        2. press 2 to change pin\n",
      "        3. press 3 to see balance2\n",
      "enter old pin\n",
      "wrong pin\n",
      "hi how  can i  help\n",
      "        1. press 1 to create pin\n",
      "        2. press 2 to change pin\n",
      "        3. press 3 to see balance3\n",
      "executed\n"
     ]
    }
   ],
   "source": [
    "atm=Atm()"
   ]
  },
  {
   "cell_type": "code",
   "execution_count": 8,
   "id": "e242f74f",
   "metadata": {},
   "outputs": [],
   "source": [
    "class Atm:\n",
    "    #constructor\n",
    "    def __init__(self):\n",
    "        self.pin=''\n",
    "        self.balance=0\n",
    "        self.menu()\n",
    "        print(\"executed\")\n",
    "    def menu(self):\n",
    "        user_input=input(\"\"\"hi how  can i  help\n",
    "        1. press 1 to create pin\n",
    "        2. press 2 to change pin\n",
    "        3. press 3 to see balance\n",
    "        4. press 4 to withdraw\"\"\")\n",
    "        if user_input ==\"1\":\n",
    "            self.create_pin()\n",
    "        elif user_input==\"2\":\n",
    "            self.change_pin()\n",
    "            # change pin\n",
    "        elif user_input==\"3\":\n",
    "            self.check_balance()\n",
    "            # see balance\n",
    "        elif user_input==\"4\":\n",
    "            self.with_draw()\n",
    "            # see balance\n",
    "        else:\n",
    "            exit()\n",
    "    def create_pin(self):\n",
    "        user_pin=input(\"enter pin\")\n",
    "        self.pin=user_pin\n",
    "        user_balance=int(input(\"give balance\"))\n",
    "        self.balance=user_balance\n",
    "        print(\"pin created\")\n",
    "        self.menu()\n",
    "    def change_pin(self):\n",
    "        old_pin=input(\"enter old pin\")\n",
    "        if old_pin==self.pin:\n",
    "            new_pin=input(\"enter_new_pin\")\n",
    "            self.pin=new_pin\n",
    "            print(\"pin changed\")\n",
    "            self.menu()\n",
    "        else:\n",
    "            print(\"wrong pin\")\n",
    "            self.menu()\n",
    "    def check_balance(self):\n",
    "        user_pin=input(\"enter you pin\")\n",
    "        if user_pin==self.pin:\n",
    "            print(\"your balance is ->\",self.balance)\n",
    "        else:\n",
    "            print(\"get out\")\n",
    "    def with_draw(self):\n",
    "        user_pin=input(\"give your pin\")\n",
    "        if user_pin==self.pin:\n",
    "            amount = int(input(\"enter input\"))\n",
    "            if amount<=self.balance:\n",
    "                self.balance=self.balance-amount\n",
    "                print(\"withdrawl succesfull, remaining balance is\",self.balance)\n",
    "                self.menu()\n",
    "            else:\n",
    "                print(\"enter correct amout\")\n",
    "        else:\n",
    "            print(\"get out\")\n",
    "        self.menu()"
   ]
  },
  {
   "cell_type": "code",
   "execution_count": 2,
   "id": "76a051b6",
   "metadata": {},
   "outputs": [
    {
     "name": "stdout",
     "output_type": "stream",
     "text": [
      "hi how  can i  help\n",
      "        1. press 1 to create pin\n",
      "        2. press 2 to change pin\n",
      "        3. press 3 to see balance\n",
      "        4. press 4 to withdraw1\n",
      "enter pin1234\n",
      "give balance7000\n",
      "pin created\n",
      "hi how  can i  help\n",
      "        1. press 1 to create pin\n",
      "        2. press 2 to change pin\n",
      "        3. press 3 to see balance\n",
      "        4. press 4 to withdraw1\n",
      "enter pin1234\n",
      "give balance7000\n",
      "pin created\n",
      "hi how  can i  help\n",
      "        1. press 1 to create pin\n",
      "        2. press 2 to change pin\n",
      "        3. press 3 to see balance\n",
      "        4. press 4 to withdraw4\n",
      "give your pin1234\n",
      "enter input1000\n",
      "withdrawl succesfull, remaining balance is 6000\n",
      "hi how  can i  help\n",
      "        1. press 1 to create pin\n",
      "        2. press 2 to change pin\n",
      "        3. press 3 to see balance\n",
      "        4. press 4 to withdraw4\n",
      "give your pin10000\n",
      "get out\n",
      "hi how  can i  help\n",
      "        1. press 1 to create pin\n",
      "        2. press 2 to change pin\n",
      "        3. press 3 to see balance\n",
      "        4. press 4 to withdraw5\n",
      "hi how  can i  help\n",
      "        1. press 1 to create pin\n",
      "        2. press 2 to change pin\n",
      "        3. press 3 to see balance\n",
      "        4. press 4 to withdraw6\n",
      "executed\n"
     ]
    }
   ],
   "source": [
    "atm=Atm()"
   ]
  },
  {
   "cell_type": "code",
   "execution_count": 9,
   "id": "d986fd67",
   "metadata": {},
   "outputs": [],
   "source": [
    "class Atm:\n",
    "    #constructor\n",
    "    def __init__(self):\n",
    "        self.pin=''\n",
    "        self.balance=0\n",
    "        print(id(self))\n",
    "        \n",
    "        print(\"executed\")\n",
    "    def menu(self):\n",
    "        user_input=input(\"\"\"hi how  can i  help\n",
    "        1. press 1 to create pin\n",
    "        2. press 2 to change pin\n",
    "        3. press 3 to see balance\n",
    "        4. press 4 to withdraw\"\"\")\n",
    "        if user_input ==\"1\":\n",
    "            self.create_pin()\n",
    "        elif user_input==\"2\":\n",
    "            self.change_pin()\n",
    "            # change pin\n",
    "        elif user_input==\"3\":\n",
    "            self.check_balance()\n",
    "            # see balance\n",
    "        elif user_input==\"4\":\n",
    "            self.with_draw()\n",
    "            # see balance\n",
    "        else:\n",
    "            exit()\n",
    "    def create_pin(self):\n",
    "        user_pin=input(\"enter pin\")\n",
    "        self.pin=user_pin\n",
    "        user_balance=int(input(\"give balance\"))\n",
    "        self.balance=user_balance\n",
    "        print(\"pin created\")\n",
    "        self.menu()\n",
    "    def change_pin(self):\n",
    "        old_pin=input(\"enter old pin\")\n",
    "        if old_pin==self.pin:\n",
    "            new_pin=input(\"enter_new_pin\")\n",
    "            self.pin=new_pin\n",
    "            print(\"pin changed\")\n",
    "            self.menu()\n",
    "        else:\n",
    "            print(\"wrong pin\")\n",
    "            self.menu()\n",
    "    def check_balance(self):\n",
    "        user_pin=input(\"enter you pin\")\n",
    "        if user_pin==self.pin:\n",
    "            print(\"your balance is ->\",self.balance)\n",
    "        else:\n",
    "            print(\"get out\")\n",
    "    def with_draw(self):\n",
    "        user_pin=input(\"give your pin\")\n",
    "        if user_pin==self.pin:\n",
    "            amount = int(input(\"enter input\"))\n",
    "            if amount<=self.balance:\n",
    "                self.balance=self.balance-amount\n",
    "                print(\"withdrawl succesfull, remaining balance is\",self.balance)\n",
    "                self.menu()\n",
    "            else:\n",
    "                print(\"enter correct amout\")\n",
    "        else:\n",
    "            print(\"get out\")\n",
    "        self.menu()"
   ]
  },
  {
   "cell_type": "code",
   "execution_count": 16,
   "id": "81cb76cf",
   "metadata": {},
   "outputs": [
    {
     "name": "stdout",
     "output_type": "stream",
     "text": [
      "2122600214032\n",
      "executed\n"
     ]
    }
   ],
   "source": [
    "atm=Atm()"
   ]
  },
  {
   "cell_type": "code",
   "execution_count": 17,
   "id": "7a5fd000",
   "metadata": {},
   "outputs": [
    {
     "name": "stdout",
     "output_type": "stream",
     "text": [
      "2122600214032\n"
     ]
    }
   ],
   "source": [
    "print(id(atm))"
   ]
  },
  {
   "cell_type": "code",
   "execution_count": 8,
   "id": "8359e494",
   "metadata": {},
   "outputs": [],
   "source": [
    "a=[1243]"
   ]
  },
  {
   "cell_type": "code",
   "execution_count": 9,
   "id": "41f5f082",
   "metadata": {},
   "outputs": [
    {
     "name": "stdout",
     "output_type": "stream",
     "text": [
      "2122578990976\n"
     ]
    }
   ],
   "source": [
    "print(id(a))"
   ]
  },
  {
   "cell_type": "code",
   "execution_count": 12,
   "id": "3db73a65",
   "metadata": {},
   "outputs": [
    {
     "name": "stdout",
     "output_type": "stream",
     "text": [
      "2122578722192\n"
     ]
    }
   ],
   "source": [
    "print(id(atm))"
   ]
  },
  {
   "cell_type": "code",
   "execution_count": 36,
   "id": "7a7dd222",
   "metadata": {},
   "outputs": [],
   "source": [
    "class Fraction:\n",
    "    def __init__(self,x,y):\n",
    "        self.num=x\n",
    "        self.den=y\n",
    "    def __str__(self):\n",
    "        return \"{}/{}\".format(self.num,self.den)"
   ]
  },
  {
   "cell_type": "code",
   "execution_count": 37,
   "id": "1c976123",
   "metadata": {},
   "outputs": [],
   "source": [
    "obj=Fraction(3,5)\n"
   ]
  },
  {
   "cell_type": "code",
   "execution_count": 38,
   "id": "6985e8de",
   "metadata": {},
   "outputs": [
    {
     "name": "stdout",
     "output_type": "stream",
     "text": [
      "3/5\n"
     ]
    }
   ],
   "source": [
    "print(obj)"
   ]
  },
  {
   "cell_type": "code",
   "execution_count": 50,
   "id": "9757c2fd",
   "metadata": {},
   "outputs": [],
   "source": [
    "class Fraction:\n",
    "    def __init__(self,x,y):\n",
    "        self.num=x\n",
    "        self.den=y\n",
    "    def __str__(self):\n",
    "        return \"{}/{}\".format(self.num,self.den)\n",
    "    def __add__(self,other):\n",
    "        new_num=self.num*other.den +other.num*self.den\n",
    "        new_den=self.den*other.den\n",
    "        return \"{}/{}\".format(new_num,new_den)\n",
    "    def __sub__(self,other):\n",
    "        new_num=self.num*other.den -other.num*self.den\n",
    "        new_den=self.den*other.den\n",
    "        return \"{}/{}\".format(new_num,new_den)\n",
    "    def __mul__(self,other):\n",
    "        new_num=self.num*other.num\n",
    "        new_den=self.den*other.den\n",
    "        return \"{}/{}\".format(new_num,new_den)\n",
    "        "
   ]
  },
  {
   "cell_type": "code",
   "execution_count": 68,
   "id": "24003883",
   "metadata": {},
   "outputs": [],
   "source": [
    "obj1=Fraction(1,2)"
   ]
  },
  {
   "cell_type": "code",
   "execution_count": 69,
   "id": "206b3d70",
   "metadata": {},
   "outputs": [],
   "source": [
    "obj2=Fraction(3,4)"
   ]
  },
  {
   "cell_type": "code",
   "execution_count": 70,
   "id": "d0ce3dc7",
   "metadata": {},
   "outputs": [
    {
     "data": {
      "text/plain": [
       "'-2/8'"
      ]
     },
     "execution_count": 70,
     "metadata": {},
     "output_type": "execute_result"
    }
   ],
   "source": [
    "obj1-obj2"
   ]
  },
  {
   "cell_type": "code",
   "execution_count": 87,
   "id": "d082f458",
   "metadata": {},
   "outputs": [],
   "source": [
    "class Fraction:\n",
    "    def __init__(self,x,y):\n",
    "        self.num=x\n",
    "        self.den=y\n",
    "    def __str__(self):\n",
    "        return \"{}/{}\".format(self.num,self.den)\n",
    "    def __add__(self,other):\n",
    "        new_num=self.num*other.den +other.num*self.den\n",
    "        new_den=self.den*other.den\n",
    "        return \"{}/{}\".format(new_num,new_den)\n",
    "    def __sub__(self,other):\n",
    "        new_num=self.num*other.den -other.num*self.den\n",
    "        new_den=self.den*other.den\n",
    "        return \"{}/{}\".format(new_num,new_den)\n",
    "    def __mul__(self,other):\n",
    "        new_num=self.num*other.num\n",
    "        new_den=self.den*other.den\n",
    "        return \"{}/{}\".format(new_num,new_den)\n",
    "    def __truediv__(self,other):\n",
    "        new_num=self.num*other.den\n",
    "        new_den=self.den*other.num\n",
    "        return \"{}/{}\".format(new_num,new_den)\n",
    "    def convert_dec(self):\n",
    "        return self.num/self.den\n",
    "             "
   ]
  },
  {
   "cell_type": "code",
   "execution_count": 66,
   "id": "cd89c383",
   "metadata": {},
   "outputs": [
    {
     "data": {
      "text/plain": [
       "'4/6'"
      ]
     },
     "execution_count": 66,
     "metadata": {},
     "output_type": "execute_result"
    }
   ],
   "source": [
    "obj1 / obj2"
   ]
  },
  {
   "cell_type": "code",
   "execution_count": 90,
   "id": "d8951679",
   "metadata": {},
   "outputs": [],
   "source": [
    "obj=Fraction(23,68)"
   ]
  },
  {
   "cell_type": "code",
   "execution_count": 91,
   "id": "4a39c600",
   "metadata": {},
   "outputs": [
    {
     "data": {
      "text/plain": [
       "0.3382352941176471"
      ]
     },
     "execution_count": 91,
     "metadata": {},
     "output_type": "execute_result"
    }
   ],
   "source": [
    "obj.convert_dec()"
   ]
  },
  {
   "cell_type": "code",
   "execution_count": 83,
   "id": "444e5415",
   "metadata": {},
   "outputs": [],
   "source": [
    "def addition(a,b):\n",
    "    return a-b"
   ]
  },
  {
   "cell_type": "code",
   "execution_count": 86,
   "id": "355ab8de",
   "metadata": {},
   "outputs": [
    {
     "data": {
      "text/plain": [
       "-1"
      ]
     },
     "execution_count": 86,
     "metadata": {},
     "output_type": "execute_result"
    }
   ],
   "source": [
    "addition(3,4)"
   ]
  },
  {
   "cell_type": "code",
   "execution_count": 148,
   "id": "8e2000c1",
   "metadata": {},
   "outputs": [],
   "source": [
    "class Point:\n",
    "    def __init__(self,x,y):\n",
    "        self.x_cor=x\n",
    "        self.y_cor=y\n",
    "    def __str__(self):\n",
    "        return '<{},{}>'.format(self.x_cor,self.y_cor) \n",
    "    def euclidean_distance(self,other):\n",
    "        return ((self.x_cor-other.x_cor)**2+(self.y_cor-other.y_cor)**2)**0.5\n",
    "    def distance_from_origin(self):\n",
    "        return self.euclidean_distance(Point(0,0))"
   ]
  },
  {
   "cell_type": "code",
   "execution_count": 149,
   "id": "a986e7e8",
   "metadata": {},
   "outputs": [],
   "source": [
    "p1=Point(0,0)\n",
    "p2=Point(2,3)"
   ]
  },
  {
   "cell_type": "code",
   "execution_count": 138,
   "id": "07a3732d",
   "metadata": {},
   "outputs": [
    {
     "name": "stdout",
     "output_type": "stream",
     "text": [
      "<0,0>\n"
     ]
    }
   ],
   "source": [
    "print(p1)"
   ]
  },
  {
   "cell_type": "code",
   "execution_count": 146,
   "id": "61af0c8f",
   "metadata": {},
   "outputs": [
    {
     "name": "stdout",
     "output_type": "stream",
     "text": [
      "<2,3>\n"
     ]
    }
   ],
   "source": [
    "print(p2)"
   ]
  },
  {
   "cell_type": "code",
   "execution_count": 150,
   "id": "49cd50d6",
   "metadata": {},
   "outputs": [
    {
     "data": {
      "text/plain": [
       "3.605551275463989"
      ]
     },
     "execution_count": 150,
     "metadata": {},
     "output_type": "execute_result"
    }
   ],
   "source": [
    "p2.distance_from_origin()"
   ]
  },
  {
   "cell_type": "code",
   "execution_count": null,
   "id": "406918c7",
   "metadata": {},
   "outputs": [],
   "source": [
    "class Point:\n",
    "    def __init__(self,x,y):\n",
    "        self.x_cor=x\n",
    "        self.y_cor=y\n",
    "    def __str__(self):\n",
    "        return '<{},{}>'.format(self.x_cor,self.y_cor) \n",
    "    def euclidean_distance(self,other):\n",
    "        return ((self.x_cor-other.x_cor)**2+(self.y_cor-other.y_cor)**2)**0.5\n",
    "    def distance_from_origin(self):\n",
    "        return self.euclidean_distance(Point(0,0))\n",
    "    def "
   ]
  },
  {
   "cell_type": "code",
   "execution_count": 170,
   "id": "76b72b58",
   "metadata": {},
   "outputs": [],
   "source": [
    "class Line:\n",
    "    def __init__(self,a,b,c):\n",
    "        self.a=a\n",
    "        self.b=b\n",
    "        self.c=c\n",
    "    def __str__(self):\n",
    "        return \"{}x+{}y+{}=0\".format(self.a,self.b,self.c)\n",
    "    def point_online(self,point):\n",
    "        if self.a*point.x_cor+self.b*point.y_cor+self.c==0:\n",
    "            return \"point is on line\"\n",
    "        else:\n",
    "            return \"doesnt lie on line\""
   ]
  },
  {
   "cell_type": "code",
   "execution_count": 171,
   "id": "7bb69423",
   "metadata": {},
   "outputs": [],
   "source": [
    "l1=Line(1,1,-2)"
   ]
  },
  {
   "cell_type": "code",
   "execution_count": 172,
   "id": "7d794bdb",
   "metadata": {},
   "outputs": [],
   "source": [
    "p1=Point(1,2)"
   ]
  },
  {
   "cell_type": "code",
   "execution_count": 173,
   "id": "d5a01590",
   "metadata": {},
   "outputs": [
    {
     "data": {
      "text/plain": [
       "'doesnt lie on line'"
      ]
     },
     "execution_count": 173,
     "metadata": {},
     "output_type": "execute_result"
    }
   ],
   "source": [
    "l1.point_online(p1)"
   ]
  },
  {
   "cell_type": "code",
   "execution_count": 180,
   "id": "69913ad0",
   "metadata": {},
   "outputs": [],
   "source": [
    "class Line:\n",
    "    def __init__(self,a,b,c):\n",
    "        self.a=a\n",
    "        self.b=b\n",
    "        self.c=c\n",
    "    def __str__(self):\n",
    "        return \"{}x+{}y+{}=0\".format(self.a,self.b,self.c)\n",
    "    def point_online(self,point):\n",
    "        if self.a*point.x_cor+self.b*point.y_cor+self.c==0:\n",
    "            return \"point is on line\"\n",
    "        else:\n",
    "            return \"doesnt lie on line\"\n",
    "    def shortest_dis(line,point):\n",
    "        num=abs(line.a*point.x_cor+line.b*point.y_cor+line.c)\n",
    "        den=(line.a**2+line.b**2)**0.5\n",
    "        return num/den"
   ]
  },
  {
   "cell_type": "code",
   "execution_count": 187,
   "id": "c0eb6da7",
   "metadata": {},
   "outputs": [],
   "source": [
    "p1=Point(1,10)"
   ]
  },
  {
   "cell_type": "code",
   "execution_count": 185,
   "id": "e0036544",
   "metadata": {},
   "outputs": [],
   "source": [
    "l1=Line(1,1,-2)"
   ]
  },
  {
   "cell_type": "code",
   "execution_count": 188,
   "id": "a57213f8",
   "metadata": {},
   "outputs": [
    {
     "data": {
      "text/plain": [
       "6.363961030678928"
      ]
     },
     "execution_count": 188,
     "metadata": {},
     "output_type": "execute_result"
    }
   ],
   "source": [
    "l1.shortest_dis(p1)"
   ]
  },
  {
   "cell_type": "code",
   "execution_count": 194,
   "id": "8ca19877",
   "metadata": {},
   "outputs": [
    {
     "name": "stdout",
     "output_type": "stream",
     "text": [
      "2122644128336\n"
     ]
    }
   ],
   "source": [
    "print(id(p1))"
   ]
  },
  {
   "cell_type": "code",
   "execution_count": 195,
   "id": "049485c1",
   "metadata": {},
   "outputs": [],
   "source": [
    "q=p1"
   ]
  },
  {
   "cell_type": "code",
   "execution_count": 196,
   "id": "b2f7eaf5",
   "metadata": {},
   "outputs": [
    {
     "name": "stdout",
     "output_type": "stream",
     "text": [
      "2122644128336\n"
     ]
    }
   ],
   "source": [
    "print(id(q))"
   ]
  },
  {
   "cell_type": "code",
   "execution_count": 199,
   "id": "123c26a2",
   "metadata": {},
   "outputs": [
    {
     "name": "stdout",
     "output_type": "stream",
     "text": [
      "<1,2>\n"
     ]
    }
   ],
   "source": [
    "print(Point(1,2))"
   ]
  },
  {
   "cell_type": "code",
   "execution_count": 201,
   "id": "300eef34",
   "metadata": {},
   "outputs": [],
   "source": [
    "q.var=23"
   ]
  },
  {
   "cell_type": "code",
   "execution_count": 203,
   "id": "8d412f94",
   "metadata": {},
   "outputs": [
    {
     "data": {
      "text/plain": [
       "1"
      ]
     },
     "execution_count": 203,
     "metadata": {},
     "output_type": "execute_result"
    }
   ],
   "source": [
    "q.x_cor"
   ]
  },
  {
   "cell_type": "code",
   "execution_count": null,
   "id": "4301f58a",
   "metadata": {},
   "outputs": [],
   "source": [
    "p1."
   ]
  },
  {
   "cell_type": "code",
   "execution_count": 230,
   "id": "746d41f8",
   "metadata": {},
   "outputs": [],
   "source": [
    "class Person:\n",
    "    def __init__(self,name,gender):\n",
    "        self.n=name\n",
    "        self.g=gender"
   ]
  },
  {
   "cell_type": "code",
   "execution_count": 231,
   "id": "f36a2ef8",
   "metadata": {},
   "outputs": [],
   "source": [
    "a=Person(\"venky\",\"g\")\n"
   ]
  },
  {
   "cell_type": "code",
   "execution_count": 234,
   "id": "0d244083",
   "metadata": {},
   "outputs": [],
   "source": [
    "def greet(person):\n",
    "    print(\"hi my name is\", person.n,\"gender is\", person.g)\n",
    "    "
   ]
  },
  {
   "cell_type": "code",
   "execution_count": 235,
   "id": "b2b38f75",
   "metadata": {},
   "outputs": [
    {
     "name": "stdout",
     "output_type": "stream",
     "text": [
      "hi my name is venky gender is g\n"
     ]
    }
   ],
   "source": [
    "greet(a)"
   ]
  },
  {
   "cell_type": "code",
   "execution_count": 2,
   "id": "703400c8",
   "metadata": {},
   "outputs": [],
   "source": [
    "# Encapsulation\n",
    "class Atm:\n",
    "    #constructor\n",
    "    def __init__(self):\n",
    "        self.pin=''\n",
    "        self.__balance=0\n",
    "        print(id(self))\n",
    "        \n",
    "        print(\"executed\")\n",
    "    def menu(self):\n",
    "        user_input=input(\"\"\"hi how  can i  help\n",
    "        1. press 1 to create pin\n",
    "        2. press 2 to change pin\n",
    "        3. press 3 to see balance\n",
    "        4. press 4 to withdraw\"\"\")\n",
    "        if user_input ==\"1\":\n",
    "            self.create_pin()\n",
    "        elif user_input==\"2\":\n",
    "            self.change_pin()\n",
    "            # change pin\n",
    "        elif user_input==\"3\":\n",
    "            self.check_balance()\n",
    "            # see balance\n",
    "        elif user_input==\"4\":\n",
    "            self.with_draw()\n",
    "            # see balance\n",
    "        else:\n",
    "            exit()\n",
    "    def create_pin(self):\n",
    "        user_pin=input(\"enter pin\")\n",
    "        self.pin=user_pin\n",
    "        user_balance=int(input(\"give balance\"))\n",
    "        self.balance=user_balance\n",
    "        print(\"pin created\")\n",
    "        self.menu()\n",
    "    def change_pin(self):\n",
    "        old_pin=input(\"enter old pin\")\n",
    "        if old_pin==self.pin:\n",
    "            new_pin=input(\"enter_new_pin\")\n",
    "            self.pin=new_pin\n",
    "            print(\"pin changed\")\n",
    "            self.menu()\n",
    "        else:\n",
    "            print(\"wrong pin\")\n",
    "            self.menu()\n",
    "    def check_balance(self):\n",
    "        user_pin=input(\"enter you pin\")\n",
    "        if user_pin==self.pin:\n",
    "            print(\"your balance is ->\",self.balance)\n",
    "        else:\n",
    "            print(\"get out\")\n",
    "    def with_draw(self):\n",
    "        user_pin=input(\"give your pin\")\n",
    "        if user_pin==self.pin:\n",
    "            amount = int(input(\"enter input\"))\n",
    "            if amount<=self.__balance:\n",
    "                self.__balance=self.balance-amount\n",
    "                print(\"withdrawl succesfull, remaining balance is\",self.__balance)\n",
    "                self.menu()\n",
    "            else:\n",
    "                print(\"enter correct amout\")\n",
    "        else:\n",
    "            print(\"get out\")\n",
    "        self.menu()"
   ]
  },
  {
   "cell_type": "code",
   "execution_count": 13,
   "id": "304e646c",
   "metadata": {},
   "outputs": [
    {
     "name": "stdout",
     "output_type": "stream",
     "text": [
      "2139319693648\n",
      "executed\n"
     ]
    }
   ],
   "source": [
    "obj=Atm()"
   ]
  },
  {
   "cell_type": "code",
   "execution_count": 15,
   "id": "e9a5aa44",
   "metadata": {},
   "outputs": [],
   "source": [
    "obj.pin =\"hehe\""
   ]
  },
  {
   "cell_type": "code",
   "execution_count": 16,
   "id": "87aab0e1",
   "metadata": {},
   "outputs": [
    {
     "name": "stdout",
     "output_type": "stream",
     "text": [
      "give your pin1234\n",
      "get out\n",
      "hi how  can i  help\n",
      "        1. press 1 to create pin\n",
      "        2. press 2 to change pin\n",
      "        3. press 3 to see balance\n",
      "        4. press 4 to withdraw1\n",
      "enter pin1234\n",
      "give balance1221\n",
      "pin created\n",
      "hi how  can i  help\n",
      "        1. press 1 to create pin\n",
      "        2. press 2 to change pin\n",
      "        3. press 3 to see balance\n",
      "        4. press 4 to withdraw1\n",
      "enter pin1234\n",
      "give balance123\n",
      "pin created\n",
      "hi how  can i  help\n",
      "        1. press 1 to create pin\n",
      "        2. press 2 to change pin\n",
      "        3. press 3 to see balance\n",
      "        4. press 4 to withdraw4\n",
      "give your pin123\n",
      "get out\n",
      "hi how  can i  help\n",
      "        1. press 1 to create pin\n",
      "        2. press 2 to change pin\n",
      "        3. press 3 to see balance\n",
      "        4. press 4 to withdraw123\n"
     ]
    }
   ],
   "source": [
    "obj.with_draw()"
   ]
  },
  {
   "cell_type": "code",
   "execution_count": null,
   "id": "9ac56ea2",
   "metadata": {},
   "outputs": [],
   "source": [
    "# polymorphism,inheritance "
   ]
  },
  {
   "cell_type": "code",
   "execution_count": 7,
   "id": "b7114dad",
   "metadata": {},
   "outputs": [],
   "source": [
    "class Customer:\n",
    "    def __init__(self,name,gender,address):\n",
    "        self.name=name\n",
    "        self.gender=gender\n",
    "        self.address=address\n",
    "    def get_address(self):\n",
    "        print(self.address.street,self.address.city,self.address.pin)\n",
    "        \n",
    "        \n",
    "class Address:\n",
    "    def __init__(self,street,city,pin):\n",
    "        self.street=street\n",
    "        self.city=city\n",
    "        self.pin=pin\n",
    "        \n",
    "\n",
    "        \n",
    "        "
   ]
  },
  {
   "cell_type": "code",
   "execution_count": 8,
   "id": "59230e4e",
   "metadata": {},
   "outputs": [],
   "source": [
    "       \n",
    "add=Address(\"alphonsus\",\"boston\",1234)"
   ]
  },
  {
   "cell_type": "code",
   "execution_count": 9,
   "id": "4974fc5e",
   "metadata": {},
   "outputs": [],
   "source": [
    "cust=Customer(\"venky\",\"male\",add)"
   ]
  },
  {
   "cell_type": "code",
   "execution_count": 10,
   "id": "4c38812c",
   "metadata": {},
   "outputs": [
    {
     "name": "stdout",
     "output_type": "stream",
     "text": [
      "alphonsus boston 1234\n"
     ]
    }
   ],
   "source": [
    "cust.get_address()"
   ]
  },
  {
   "cell_type": "code",
   "execution_count": 27,
   "id": "d2bf64d8",
   "metadata": {},
   "outputs": [],
   "source": [
    "class User:\n",
    "    def __init__(self):\n",
    "        self.name=\"vnek\"\n",
    "    def print_name(self):\n",
    "        print(self.name)\n",
    "class Student(User):\n",
    "    def __init__(self):\n",
    "        super().__init__()\n",
    "        self.roll=100\n",
    "    def print_roll(self):\n",
    "        print(self.roll)"
   ]
  },
  {
   "cell_type": "code",
   "execution_count": 28,
   "id": "98934968",
   "metadata": {},
   "outputs": [],
   "source": [
    "std=Student()"
   ]
  },
  {
   "cell_type": "code",
   "execution_count": 29,
   "id": "c3b9dcdf",
   "metadata": {},
   "outputs": [
    {
     "name": "stdout",
     "output_type": "stream",
     "text": [
      "vnek\n"
     ]
    }
   ],
   "source": [
    "std.print_name()"
   ]
  },
  {
   "cell_type": "code",
   "execution_count": 31,
   "id": "73c4330a",
   "metadata": {},
   "outputs": [],
   "source": [
    "def buy():\n",
    "    print(\"awefa\")"
   ]
  },
  {
   "cell_type": "code",
   "execution_count": 32,
   "id": "05e8df9e",
   "metadata": {},
   "outputs": [
    {
     "name": "stdout",
     "output_type": "stream",
     "text": [
      "awefa\n"
     ]
    }
   ],
   "source": [
    "buy()"
   ]
  },
  {
   "cell_type": "code",
   "execution_count": 33,
   "id": "b6b6915c",
   "metadata": {},
   "outputs": [],
   "source": [
    "def area(a,b=0):\n",
    "    return a*b"
   ]
  },
  {
   "cell_type": "code",
   "execution_count": 35,
   "id": "8a39be88",
   "metadata": {},
   "outputs": [
    {
     "data": {
      "text/plain": [
       "3"
      ]
     },
     "execution_count": 35,
     "metadata": {},
     "output_type": "execute_result"
    }
   ],
   "source": [
    "area(1,3)"
   ]
  },
  {
   "cell_type": "code",
   "execution_count": null,
   "id": "6dccdffd",
   "metadata": {},
   "outputs": [],
   "source": []
  },
  {
   "cell_type": "code",
   "execution_count": null,
   "id": "944598b5",
   "metadata": {},
   "outputs": [],
   "source": []
  },
  {
   "cell_type": "code",
   "execution_count": null,
   "id": "bff1b15a",
   "metadata": {},
   "outputs": [],
   "source": []
  },
  {
   "cell_type": "code",
   "execution_count": null,
   "id": "543c5626",
   "metadata": {},
   "outputs": [],
   "source": []
  },
  {
   "cell_type": "code",
   "execution_count": null,
   "id": "bafdafdd",
   "metadata": {},
   "outputs": [],
   "source": []
  },
  {
   "cell_type": "code",
   "execution_count": null,
   "id": "5c00160d",
   "metadata": {},
   "outputs": [],
   "source": []
  },
  {
   "cell_type": "code",
   "execution_count": null,
   "id": "6e1257d8",
   "metadata": {},
   "outputs": [],
   "source": []
  },
  {
   "cell_type": "code",
   "execution_count": null,
   "id": "cdbbeb82",
   "metadata": {},
   "outputs": [],
   "source": []
  },
  {
   "cell_type": "code",
   "execution_count": null,
   "id": "01a094ce",
   "metadata": {},
   "outputs": [],
   "source": []
  },
  {
   "cell_type": "code",
   "execution_count": null,
   "id": "c6ae8554",
   "metadata": {},
   "outputs": [],
   "source": []
  },
  {
   "cell_type": "code",
   "execution_count": null,
   "id": "98cc29f8",
   "metadata": {},
   "outputs": [],
   "source": []
  },
  {
   "cell_type": "code",
   "execution_count": null,
   "id": "4356f050",
   "metadata": {},
   "outputs": [],
   "source": []
  },
  {
   "cell_type": "code",
   "execution_count": null,
   "id": "98f111c6",
   "metadata": {},
   "outputs": [],
   "source": []
  },
  {
   "cell_type": "code",
   "execution_count": null,
   "id": "0b5926d1",
   "metadata": {},
   "outputs": [],
   "source": []
  },
  {
   "cell_type": "code",
   "execution_count": null,
   "id": "3e0201d1",
   "metadata": {},
   "outputs": [],
   "source": []
  },
  {
   "cell_type": "code",
   "execution_count": null,
   "id": "9cebcdf8",
   "metadata": {},
   "outputs": [],
   "source": []
  },
  {
   "cell_type": "code",
   "execution_count": null,
   "id": "04f91fe8",
   "metadata": {},
   "outputs": [],
   "source": []
  },
  {
   "cell_type": "code",
   "execution_count": null,
   "id": "44954e37",
   "metadata": {},
   "outputs": [],
   "source": []
  },
  {
   "cell_type": "code",
   "execution_count": null,
   "id": "e6708434",
   "metadata": {},
   "outputs": [],
   "source": []
  },
  {
   "cell_type": "code",
   "execution_count": null,
   "id": "fde46cde",
   "metadata": {},
   "outputs": [],
   "source": []
  },
  {
   "cell_type": "code",
   "execution_count": null,
   "id": "9f66ebec",
   "metadata": {},
   "outputs": [],
   "source": []
  },
  {
   "cell_type": "code",
   "execution_count": null,
   "id": "f7924187",
   "metadata": {},
   "outputs": [],
   "source": []
  },
  {
   "cell_type": "code",
   "execution_count": null,
   "id": "c49378cc",
   "metadata": {},
   "outputs": [],
   "source": []
  },
  {
   "cell_type": "code",
   "execution_count": null,
   "id": "d298d1de",
   "metadata": {},
   "outputs": [],
   "source": []
  },
  {
   "cell_type": "code",
   "execution_count": null,
   "id": "a137d97f",
   "metadata": {},
   "outputs": [],
   "source": []
  },
  {
   "cell_type": "code",
   "execution_count": null,
   "id": "319b4d5f",
   "metadata": {},
   "outputs": [],
   "source": []
  },
  {
   "cell_type": "code",
   "execution_count": null,
   "id": "cc10b0cb",
   "metadata": {},
   "outputs": [],
   "source": []
  },
  {
   "cell_type": "code",
   "execution_count": null,
   "id": "8b019ba9",
   "metadata": {},
   "outputs": [],
   "source": []
  },
  {
   "cell_type": "code",
   "execution_count": null,
   "id": "9632798f",
   "metadata": {},
   "outputs": [],
   "source": []
  },
  {
   "cell_type": "code",
   "execution_count": null,
   "id": "b5da0bd6",
   "metadata": {},
   "outputs": [],
   "source": []
  },
  {
   "cell_type": "code",
   "execution_count": null,
   "id": "933e4e9a",
   "metadata": {},
   "outputs": [],
   "source": []
  },
  {
   "cell_type": "code",
   "execution_count": null,
   "id": "04e4ef60",
   "metadata": {},
   "outputs": [],
   "source": []
  }
 ],
 "metadata": {
  "kernelspec": {
   "display_name": "Python 3 (ipykernel)",
   "language": "python",
   "name": "python3"
  },
  "language_info": {
   "codemirror_mode": {
    "name": "ipython",
    "version": 3
   },
   "file_extension": ".py",
   "mimetype": "text/x-python",
   "name": "python",
   "nbconvert_exporter": "python",
   "pygments_lexer": "ipython3",
   "version": "3.11.5"
  }
 },
 "nbformat": 4,
 "nbformat_minor": 5
}
