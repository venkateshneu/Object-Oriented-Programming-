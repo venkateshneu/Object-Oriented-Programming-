{
  "nbformat": 4,
  "nbformat_minor": 0,
  "metadata": {
    "colab": {
      "provenance": [],
      "gpuType": "T4"
    },
    "kernelspec": {
      "name": "python3",
      "display_name": "Python 3"
    },
    "language_info": {
      "name": "python"
    },
    "accelerator": "GPU"
  },
  "cells": [
    {
      "cell_type": "code",
      "execution_count": 2,
      "metadata": {
        "id": "Nytqv9tqZ2BL"
      },
      "outputs": [],
      "source": [
        "import nlpcloud\n",
        "class Nlp_app:\n",
        "  def __init__(self):\n",
        "    self.__database ={}\n",
        "    self.__first_menu()\n",
        "\n",
        "  def __first_menu(self):\n",
        "    user_input=int(input(\"\"\"press 1 for register\n",
        "    press 2 for login\n",
        "    press 3 for exit\"\"\"))\n",
        "    if user_input==1:\n",
        "      self.__register()\n",
        "    elif user_input==2:\n",
        "      self.__login()\n",
        "    else:\n",
        "      exit()\n",
        "\n",
        "  def __second_menu(self):\n",
        "    second_input=int(input(\"\"\"press 1 for NER\n",
        "    press 2 for language  detection\n",
        "    press 3 for sentiment analysis\n",
        "    press 4 to log out\"\"\"))\n",
        "    if second_input==1:\n",
        "      self.__sentiment()\n",
        "    elif second_input==2:\n",
        "      self__language_detection()\n",
        "    elif second_input==3:\n",
        "      self__sentiment_analysis()\n",
        "    else:\n",
        "      exit()\n",
        "\n",
        "  def __sentiment(self):\n",
        "    para=input(\"enter the para\")\n",
        "    search_item=input(\"whats your preference\")\n",
        "    client = nlpcloud.Client(\"distilbert-base-uncased-emotion\", \"52046977b121b0c0159a36ad3be89f9fe13cdf60\", gpu=False)\n",
        "    response = client.sentiment(para)\n",
        "    print(response)\n",
        "\n",
        "\n",
        "  def __register(self):\n",
        "    user_name=input(\"give your name\")\n",
        "    user_mail=input(\"give your email\")\n",
        "    user_password=input(\"give password\")\n",
        "\n",
        "    if user_mail in self.__database:\n",
        "      print(\"give another email\")\n",
        "    else:\n",
        "      self.__database[user_mail]=[user_name,user_password]\n",
        "      print(\"registration success\")\n",
        "      print(self.__database)\n",
        "      self.__first_menu()\n",
        "\n",
        "\n",
        "\n",
        "  def __login(self):\n",
        "    user_email=input(\"enter email\")\n",
        "    user_password=input(\"enter password\")\n",
        "\n",
        "    if user_email in self.__database:\n",
        "      if self.__database[user_email][1]==user_password:\n",
        "        print(\"welcome\",self.__database[user_email][0] )\n",
        "        self.__second_menu()\n",
        "      else:\n",
        "        print(\"wrong_password, try again\")\n",
        "        self.__login()\n",
        "    else:\n",
        "      print(\"not register\")\n",
        "      self.__first_menu()"
      ]
    },
    {
      "cell_type": "code",
      "source": [
        "!pip install nlpcloud\n",
        "\n"
      ],
      "metadata": {
        "colab": {
          "base_uri": "https://localhost:8080/"
        },
        "id": "a1mepCcAq6qs",
        "outputId": "1169e531-41ef-429a-d811-deb8c24705cd"
      },
      "execution_count": 3,
      "outputs": [
        {
          "output_type": "stream",
          "name": "stdout",
          "text": [
            "Collecting nlpcloud\n",
            "  Downloading nlpcloud-1.1.46-py3-none-any.whl.metadata (1.1 kB)\n",
            "Requirement already satisfied: requests in /usr/local/lib/python3.10/dist-packages (from nlpcloud) (2.32.3)\n",
            "Requirement already satisfied: charset-normalizer<4,>=2 in /usr/local/lib/python3.10/dist-packages (from requests->nlpcloud) (3.3.2)\n",
            "Requirement already satisfied: idna<4,>=2.5 in /usr/local/lib/python3.10/dist-packages (from requests->nlpcloud) (3.8)\n",
            "Requirement already satisfied: urllib3<3,>=1.21.1 in /usr/local/lib/python3.10/dist-packages (from requests->nlpcloud) (2.0.7)\n",
            "Requirement already satisfied: certifi>=2017.4.17 in /usr/local/lib/python3.10/dist-packages (from requests->nlpcloud) (2024.7.4)\n",
            "Downloading nlpcloud-1.1.46-py3-none-any.whl (3.9 kB)\n",
            "Installing collected packages: nlpcloud\n",
            "Successfully installed nlpcloud-1.1.46\n"
          ]
        }
      ]
    },
    {
      "cell_type": "code",
      "source": [
        "nlp=Nlp_app()"
      ],
      "metadata": {
        "colab": {
          "base_uri": "https://localhost:8080/"
        },
        "id": "rovvJNZoa_kZ",
        "outputId": "a1147122-757a-41c7-b656-5a628510f354"
      },
      "execution_count": 3,
      "outputs": [
        {
          "output_type": "stream",
          "name": "stdout",
          "text": [
            "press 1 for register\n",
            "    press 2 for login \n",
            "    press 3 for exit1\n",
            "give your name12\n",
            "give your email12\n",
            "give password12\n",
            "registration success\n",
            "{'12': ['12', '12']}\n",
            "press 1 for register\n",
            "    press 2 for login \n",
            "    press 3 for exit2\n",
            "enter email12\n",
            "enter password12\n",
            "welcome 12\n",
            "press 1 for NER\n",
            "    press 2 for language  detection\n",
            "    press 3 for sentiment analysis\n",
            "    press 4 to log out1\n",
            "enter the paraI recently watched The Endless Bore, and I can confidently say it's two hours of my life I’ll never get back. The movie was a complete disaster from start to finish. The plot, if you can even call it that, was incoherent and seemed to go nowhere. Characters were introduced with no background or development, leaving the audience with no reason to care about them.\n",
            "whats your preferenceaf\n",
            "{'scored_labels': [{'label': 'anger', 'score': 0.6511890888214111}, {'label': 'joy', 'score': 0.29389527440071106}, {'label': 'fear', 'score': 0.029177289456129074}, {'label': 'sadness', 'score': 0.018423717468976974}, {'label': 'surprise', 'score': 0.0044009326957166195}, {'label': 'love', 'score': 0.0029137171804904938}]}\n"
          ]
        }
      ]
    },
    {
      "cell_type": "code",
      "source": [],
      "metadata": {
        "id": "s8aZXupsrCVn"
      },
      "execution_count": null,
      "outputs": []
    },
    {
      "cell_type": "code",
      "source": [],
      "metadata": {
        "id": "fTTeCPkjrCX7"
      },
      "execution_count": null,
      "outputs": []
    },
    {
      "cell_type": "code",
      "source": [],
      "metadata": {
        "id": "7hKnGr5WrCbU"
      },
      "execution_count": null,
      "outputs": []
    },
    {
      "cell_type": "code",
      "source": [],
      "metadata": {
        "id": "B_XOd2H9bmJC"
      },
      "execution_count": 3,
      "outputs": []
    },
    {
      "cell_type": "code",
      "source": [],
      "metadata": {
        "id": "FI3MlExJbmLp"
      },
      "execution_count": 3,
      "outputs": []
    },
    {
      "cell_type": "code",
      "source": [],
      "metadata": {
        "id": "8FElrpU5bmOQ"
      },
      "execution_count": 3,
      "outputs": []
    },
    {
      "cell_type": "code",
      "source": [],
      "metadata": {
        "id": "XepsfALobmQ2"
      },
      "execution_count": 3,
      "outputs": []
    },
    {
      "cell_type": "code",
      "source": [],
      "metadata": {
        "id": "P2m-JO7tbmTV"
      },
      "execution_count": 3,
      "outputs": []
    },
    {
      "cell_type": "code",
      "source": [],
      "metadata": {
        "id": "P1EcMvGgbmV0"
      },
      "execution_count": 3,
      "outputs": []
    },
    {
      "cell_type": "code",
      "source": [],
      "metadata": {
        "id": "NUJvjgrxbmY6"
      },
      "execution_count": null,
      "outputs": []
    }
  ]
}